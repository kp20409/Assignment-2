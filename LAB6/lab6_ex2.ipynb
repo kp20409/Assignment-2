{
  "nbformat": 4,
  "nbformat_minor": 0,
  "metadata": {
    "colab": {
      "name": "lab6_ex2",
      "provenance": [],
      "authorship_tag": "ABX9TyPs+vmdPbFGLUHgr6QFl4k2",
      "include_colab_link": true
    },
    "kernelspec": {
      "name": "python3",
      "display_name": "Python 3"
    },
    "language_info": {
      "name": "python"
    }
  },
  "cells": [
    {
      "cell_type": "markdown",
      "metadata": {
        "id": "view-in-github",
        "colab_type": "text"
      },
      "source": [
        "<a href=\"https://colab.research.google.com/github/kp20409/Assignment-2/blob/main/LAB6/lab6_ex2.ipynb\" target=\"_parent\"><img src=\"https://colab.research.google.com/assets/colab-badge.svg\" alt=\"Open In Colab\"/></a>"
      ]
    },
    {
      "cell_type": "code",
      "metadata": {
        "colab": {
          "base_uri": "https://localhost:8080/",
          "height": 197
        },
        "id": "o2-wvEn_qE_W",
        "outputId": "917440f6-f267-4fda-fca5-f028e23de516"
      },
      "source": [
        "import numpy as np\n",
        "import pandas as pd\n",
        "import matplotlib.pyplot as plt \n",
        "from sklearn import cluster, datasets, metrics\n",
        "import seaborn as sns\n",
        "\n",
        "df = pd.read_csv('https://raw.githubusercontent.com/sagihaider/CE888_2021/main/Lab_6/Data/Country-data.csv')\n",
        "\n",
        "df.head()"
      ],
      "execution_count": 1,
      "outputs": [
        {
          "output_type": "execute_result",
          "data": {
            "text/html": [
              "<div>\n",
              "<style scoped>\n",
              "    .dataframe tbody tr th:only-of-type {\n",
              "        vertical-align: middle;\n",
              "    }\n",
              "\n",
              "    .dataframe tbody tr th {\n",
              "        vertical-align: top;\n",
              "    }\n",
              "\n",
              "    .dataframe thead th {\n",
              "        text-align: right;\n",
              "    }\n",
              "</style>\n",
              "<table border=\"1\" class=\"dataframe\">\n",
              "  <thead>\n",
              "    <tr style=\"text-align: right;\">\n",
              "      <th></th>\n",
              "      <th>country</th>\n",
              "      <th>child_mort</th>\n",
              "      <th>exports</th>\n",
              "      <th>health</th>\n",
              "      <th>imports</th>\n",
              "      <th>income</th>\n",
              "      <th>inflation</th>\n",
              "      <th>life_expec</th>\n",
              "      <th>total_fer</th>\n",
              "      <th>gdpp</th>\n",
              "    </tr>\n",
              "  </thead>\n",
              "  <tbody>\n",
              "    <tr>\n",
              "      <th>0</th>\n",
              "      <td>Afghanistan</td>\n",
              "      <td>90.2</td>\n",
              "      <td>10.0</td>\n",
              "      <td>7.58</td>\n",
              "      <td>44.9</td>\n",
              "      <td>1610</td>\n",
              "      <td>9.44</td>\n",
              "      <td>56.2</td>\n",
              "      <td>5.82</td>\n",
              "      <td>553</td>\n",
              "    </tr>\n",
              "    <tr>\n",
              "      <th>1</th>\n",
              "      <td>Albania</td>\n",
              "      <td>16.6</td>\n",
              "      <td>28.0</td>\n",
              "      <td>6.55</td>\n",
              "      <td>48.6</td>\n",
              "      <td>9930</td>\n",
              "      <td>4.49</td>\n",
              "      <td>76.3</td>\n",
              "      <td>1.65</td>\n",
              "      <td>4090</td>\n",
              "    </tr>\n",
              "    <tr>\n",
              "      <th>2</th>\n",
              "      <td>Algeria</td>\n",
              "      <td>27.3</td>\n",
              "      <td>38.4</td>\n",
              "      <td>4.17</td>\n",
              "      <td>31.4</td>\n",
              "      <td>12900</td>\n",
              "      <td>16.10</td>\n",
              "      <td>76.5</td>\n",
              "      <td>2.89</td>\n",
              "      <td>4460</td>\n",
              "    </tr>\n",
              "    <tr>\n",
              "      <th>3</th>\n",
              "      <td>Angola</td>\n",
              "      <td>119.0</td>\n",
              "      <td>62.3</td>\n",
              "      <td>2.85</td>\n",
              "      <td>42.9</td>\n",
              "      <td>5900</td>\n",
              "      <td>22.40</td>\n",
              "      <td>60.1</td>\n",
              "      <td>6.16</td>\n",
              "      <td>3530</td>\n",
              "    </tr>\n",
              "    <tr>\n",
              "      <th>4</th>\n",
              "      <td>Antigua and Barbuda</td>\n",
              "      <td>10.3</td>\n",
              "      <td>45.5</td>\n",
              "      <td>6.03</td>\n",
              "      <td>58.9</td>\n",
              "      <td>19100</td>\n",
              "      <td>1.44</td>\n",
              "      <td>76.8</td>\n",
              "      <td>2.13</td>\n",
              "      <td>12200</td>\n",
              "    </tr>\n",
              "  </tbody>\n",
              "</table>\n",
              "</div>"
            ],
            "text/plain": [
              "               country  child_mort  exports  ...  life_expec  total_fer   gdpp\n",
              "0          Afghanistan        90.2     10.0  ...        56.2       5.82    553\n",
              "1              Albania        16.6     28.0  ...        76.3       1.65   4090\n",
              "2              Algeria        27.3     38.4  ...        76.5       2.89   4460\n",
              "3               Angola       119.0     62.3  ...        60.1       6.16   3530\n",
              "4  Antigua and Barbuda        10.3     45.5  ...        76.8       2.13  12200\n",
              "\n",
              "[5 rows x 10 columns]"
            ]
          },
          "metadata": {
            "tags": []
          },
          "execution_count": 1
        }
      ]
    },
    {
      "cell_type": "code",
      "metadata": {
        "colab": {
          "base_uri": "https://localhost:8080/",
          "height": 334
        },
        "id": "cIdOVrftqgUd",
        "outputId": "b6fadc98-e9c2-4ec7-9d05-c492f7d82e6a"
      },
      "source": [
        "# Fetch data into x and y variables\n",
        "x=df.iloc[:,1:9] \n",
        "\n",
        "x = np.array(x)\n",
        "\n",
        "km=cluster.KMeans(n_clusters=3)\n",
        "km.fit(x)\n",
        "\n",
        "df['label'] = km.labels_\n",
        "\n",
        "plt.figure(figsize=(8,5))\n",
        "plt.grid(True)\n",
        "plt.scatter(x[:,4],x[:,5],c=km.labels_)\n",
        "plt.savefig('CLUSTER_country.png', dpi=300)\n",
        "\n",
        "plt.xlabel(df.columns[i+1])\n",
        "plt.ylabel(df.columns[i+2])\n",
        "\n",
        "plt.show()\n"
      ],
      "execution_count": 3,
      "outputs": [
        {
          "output_type": "display_data",
          "data": {
            "image/png": "[encoded data removed]",
            "text/plain": [
              "<Figure size 576x360 with 1 Axes>"
            ]
          },
          "metadata": {
            "tags": [],
            "needs_background": "light"
          }
        }
      ]
    },
    {
      "cell_type": "code",
      "metadata": {
        "colab": {
          "base_uri": "https://localhost:8080/"
        },
        "id": "j7HvYukKq4Ck",
        "outputId": "ccacf824-407a-4703-c367-4a45b706a55e"
      },
      "source": [
        "print('Group 1: ', df.loc[df['label'] == 0]['country'].values)\n",
        "\n",
        "print('Group 2: ', df.loc[df['label'] == 1]['country'].values)\n",
        "\n",
        "print('Group 3: ', df.loc[df['label'] == 2]['country'].values)"
      ],
      "execution_count": 4,
      "outputs": [
        {
          "output_type": "stream",
          "text": [
            "Group 1:  ['Afghanistan' 'Albania' 'Algeria' 'Angola' 'Antigua and Barbuda'\n",
            " 'Argentina' 'Armenia' 'Azerbaijan' 'Bangladesh' 'Barbados' 'Belarus'\n",
            " 'Belize' 'Benin' 'Bhutan' 'Bolivia' 'Bosnia and Herzegovina' 'Botswana'\n",
            " 'Brazil' 'Bulgaria' 'Burkina Faso' 'Burundi' 'Cambodia' 'Cameroon'\n",
            " 'Cape Verde' 'Central African Republic' 'Chad' 'Chile' 'China' 'Colombia'\n",
            " 'Comoros' 'Congo, Dem. Rep.' 'Congo, Rep.' 'Costa Rica' \"Cote d'Ivoire\"\n",
            " 'Croatia' 'Dominican Republic' 'Ecuador' 'Egypt' 'El Salvador' 'Eritrea'\n",
            " 'Fiji' 'Gabon' 'Gambia' 'Georgia' 'Ghana' 'Grenada' 'Guatemala' 'Guinea'\n",
            " 'Guinea-Bissau' 'Guyana' 'Haiti' 'India' 'Indonesia' 'Iran' 'Iraq'\n",
            " 'Jamaica' 'Jordan' 'Kazakhstan' 'Kenya' 'Kiribati' 'Kyrgyz Republic'\n",
            " 'Lao' 'Latvia' 'Lebanon' 'Lesotho' 'Liberia' 'Lithuania' 'Macedonia, FYR'\n",
            " 'Madagascar' 'Malawi' 'Malaysia' 'Maldives' 'Mali' 'Mauritania'\n",
            " 'Mauritius' 'Micronesia, Fed. Sts.' 'Moldova' 'Mongolia' 'Montenegro'\n",
            " 'Morocco' 'Mozambique' 'Myanmar' 'Namibia' 'Nepal' 'Niger' 'Nigeria'\n",
            " 'Pakistan' 'Panama' 'Paraguay' 'Peru' 'Philippines' 'Poland' 'Romania'\n",
            " 'Rwanda' 'Samoa' 'Senegal' 'Serbia' 'Seychelles' 'Sierra Leone'\n",
            " 'Solomon Islands' 'South Africa' 'Sri Lanka'\n",
            " 'St. Vincent and the Grenadines' 'Sudan' 'Suriname' 'Tajikistan'\n",
            " 'Tanzania' 'Thailand' 'Timor-Leste' 'Togo' 'Tonga' 'Tunisia' 'Turkey'\n",
            " 'Turkmenistan' 'Uganda' 'Ukraine' 'Uruguay' 'Uzbekistan' 'Vanuatu'\n",
            " 'Venezuela' 'Vietnam' 'Yemen' 'Zambia']\n",
            "Group 2:  ['Australia' 'Austria' 'Bahamas' 'Bahrain' 'Belgium' 'Canada' 'Cyprus'\n",
            " 'Czech Republic' 'Denmark' 'Equatorial Guinea' 'Estonia' 'Finland'\n",
            " 'France' 'Germany' 'Greece' 'Hungary' 'Iceland' 'Ireland' 'Israel'\n",
            " 'Italy' 'Japan' 'Libya' 'Malta' 'Netherlands' 'New Zealand' 'Oman'\n",
            " 'Portugal' 'Russia' 'Saudi Arabia' 'Slovak Republic' 'Slovenia'\n",
            " 'South Korea' 'Spain' 'Sweden' 'Switzerland' 'United Arab Emirates'\n",
            " 'United Kingdom' 'United States']\n",
            "Group 3:  ['Brunei' 'Kuwait' 'Luxembourg' 'Norway' 'Qatar' 'Singapore']\n"
          ],
          "name": "stdout"
        }
      ]
    }
  ]
}